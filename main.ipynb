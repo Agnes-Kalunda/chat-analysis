{
 "cells": [
  {
   "cell_type": "code",
   "execution_count": 12,
   "metadata": {},
   "outputs": [],
   "source": [
    "import emoji, emot, re, stylecloud\n",
    "\n",
    "import pandas as pd\n",
    "import plotly.graph_objs as go\n",
    "\n",
    "from bertopic import BERTopic\n",
    "\n",
    "from collections import Counter\n",
    "from datetime import timedelta\n",
    "# from emosent import get_emoji_sentiment_rank\n",
    "from nltk.sentiment.vader import SentimentIntensityAnalyzer\n",
    "from umap import UMAP\n",
    "from whatstk import WhatsAppChat, FigureBuilder"
   ]
  }
 ],
 "metadata": {
  "kernelspec": {
   "display_name": "venv",
   "language": "python",
   "name": "python3"
  },
  "language_info": {
   "codemirror_mode": {
    "name": "ipython",
    "version": 3
   },
   "file_extension": ".py",
   "mimetype": "text/x-python",
   "name": "python",
   "nbconvert_exporter": "python",
   "pygments_lexer": "ipython3",
   "version": "3.8.10"
  }
 },
 "nbformat": 4,
 "nbformat_minor": 2
}
